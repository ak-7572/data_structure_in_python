{
 "cells": [
  {
   "cell_type": "code",
   "execution_count": 3,
   "id": "e8cdee21-af0e-43cc-9e30-1dbbcc743709",
   "metadata": {},
   "outputs": [
    {
     "data": {
      "text/plain": [
       "'itraa'"
      ]
     },
     "execution_count": 3,
     "metadata": {},
     "output_type": "execute_result"
    }
   ],
   "source": [
    "# Q1. Write a code to reverse a string.\n",
    "\n",
    "\n",
    "a = \"aarti\"\n",
    "a[::-1]"
   ]
  },
  {
   "cell_type": "code",
   "execution_count": 11,
   "id": "0fafaf9f-2c59-4ecf-ae27-32f18d0ffca7",
   "metadata": {},
   "outputs": [
    {
     "name": "stdout",
     "output_type": "stream",
     "text": [
      "3\n"
     ]
    }
   ],
   "source": [
    "# Q2. write a code to count the number of vowels in a string.\n",
    "\n",
    "a = \"aarti\"\n",
    "vowels = \"aeiouAEIOU\"\n",
    "count = sum(a.count(vowel) for vowel in vowels)\n",
    "print(count)"
   ]
  },
  {
   "cell_type": "code",
   "execution_count": 20,
   "id": "e28da23e-0d82-4c32-ac81-e7c896931475",
   "metadata": {},
   "outputs": [
    {
     "name": "stdout",
     "output_type": "stream",
     "text": [
      "The string is not a palindrome.\n"
     ]
    }
   ],
   "source": [
    "# Q3. Write a code to check if a given string is a palindrome or not.\n",
    "\n",
    "\n",
    "a = \"aarti\"\n",
    "if is_palindrome(a):\n",
    "    print(\"The string is a palindrome.\")\n",
    "else:\n",
    "    print(\"The string is not a palindrome.\")"
   ]
  },
  {
   "cell_type": "code",
   "execution_count": 5,
   "id": "5af2c775-3b09-4b72-9845-4f53fca9bfe0",
   "metadata": {},
   "outputs": [
    {
     "name": "stdout",
     "output_type": "stream",
     "text": [
      "yes, they are anagram\n"
     ]
    }
   ],
   "source": [
    "# Q4. write a code to check if two given strings are anagrams of each other.\n",
    "\n",
    "\n",
    "a = \"cinema\"\n",
    "b = \"iceman\"\n",
    "if are_anagrams(a, b):\n",
    "    print(\"yes, they are anagram\")\n",
    "else:\n",
    "    print(\"no, they are not anagram\")\n",
    "    "
   ]
  },
  {
   "cell_type": "code",
   "execution_count": 11,
   "id": "a80e975d-f6a1-483d-88c4-c65e17630965",
   "metadata": {},
   "outputs": [
    {
     "name": "stdout",
     "output_type": "stream",
     "text": [
      "0 8 "
     ]
    }
   ],
   "source": [
    "# Q5. Write a code to find all occurrences of a given substring within another string.\n",
    "\n",
    "\n",
    "def printIndex(str, s):\n",
    "\n",
    "    flag = False\n",
    "    for i in range(len(str)):\n",
    "        if (str[i:i + len(s)] == s):\n",
    "\n",
    "            print(i, end=\" \")\n",
    "            flag = True\n",
    "\n",
    "    if (flag == False):\n",
    "        print(\"NONE\")\n",
    "\n",
    "\n",
    "str1 = \"GeeksforGeeks\"\n",
    "str2 = \"Geeks\"\n",
    "printIndex(str1, str2)"
   ]
  },
  {
   "cell_type": "code",
   "execution_count": 12,
   "id": "52226239-c1a7-485b-bcc4-20a76727461c",
   "metadata": {},
   "outputs": [
    {
     "name": "stdout",
     "output_type": "stream",
     "text": [
      "Compressed string: a2b2c2a3\n"
     ]
    }
   ],
   "source": [
    "# Q6. Write a code to perform basic string compression using the counts of repeated characters.\n",
    "\n",
    "\n",
    "def compress_string(s):\n",
    "    if not s:\n",
    "        return \"\"\n",
    "    \n",
    "    compressed = []\n",
    "    count = 1\n",
    "    \n",
    "    for i in range(1, len(s)):\n",
    "        if s[i] == s[i - 1]:\n",
    "            count += 1\n",
    "        else:\n",
    "            compressed.append(s[i - 1])\n",
    "            compressed.append(str(count))\n",
    "            count = 1\n",
    "    \n",
    "    compressed.append(s[-1])\n",
    "    compressed.append(str(count))\n",
    "    \n",
    "    compressed_string = ''.join(compressed)\n",
    "    \n",
    "    return compressed_string if len(compressed_string) < len(s) else s\n",
    "\n",
    "original_string = \"aabbccaaa\"\n",
    "compressed_string = compress_string(original_string)\n",
    "print(\"Compressed string:\", compressed_string)"
   ]
  },
  {
   "cell_type": "code",
   "execution_count": 13,
   "id": "d3fafb18-2b4d-429c-abc2-09806365881c",
   "metadata": {},
   "outputs": [
    {
     "name": "stdout",
     "output_type": "stream",
     "text": [
      "Has all unique characters: True\n",
      "Has all unique characters: False\n"
     ]
    }
   ],
   "source": [
    "# Q7. Write a code to determine if a string has all unique characters.\n",
    "\n",
    "\n",
    "def has_all_unique_characters(s):\n",
    "    char_set = set(s)\n",
    "    \n",
    "    return len(char_set) == len(s)\n",
    "\n",
    "test_string = \"abcdef\"\n",
    "print(\"Has all unique characters:\", has_all_unique_characters(test_string))  \n",
    "\n",
    "test_string = \"aabbcc\"\n",
    "print(\"Has all unique characters:\", has_all_unique_characters(test_string))"
   ]
  },
  {
   "cell_type": "code",
   "execution_count": 1,
   "id": "8ef22eff-bec1-4f3e-bad8-f199ed94de68",
   "metadata": {},
   "outputs": [
    {
     "data": {
      "text/plain": [
       "'AARTI'"
      ]
     },
     "execution_count": 1,
     "metadata": {},
     "output_type": "execute_result"
    }
   ],
   "source": [
    "# Q8. Write a code to convert a given string to uppercase or lowercase.\n",
    "\n",
    "\n",
    "a = \"aarti\"\n",
    "a.upper()"
   ]
  },
  {
   "cell_type": "code",
   "execution_count": 25,
   "id": "1356fa0d-7cd8-42d2-90e1-3c0d17e54d1e",
   "metadata": {},
   "outputs": [
    {
     "name": "stdout",
     "output_type": "stream",
     "text": [
      "Number of words: 4\n"
     ]
    }
   ],
   "source": [
    "# Q9. Write a code to count the number of words in a string.\n",
    "\n",
    "\n",
    "def count_words(s):\n",
    "    words = s.split()\n",
    "    return len(words)\n",
    "a = \"my name is aarti\"\n",
    "print(\"Number of words:\", count_words(a))"
   ]
  },
  {
   "cell_type": "code",
   "execution_count": 35,
   "id": "530778f6-c77d-4f66-ae66-262b0b538bdd",
   "metadata": {},
   "outputs": [
    {
     "name": "stdout",
     "output_type": "stream",
     "text": [
      "hello aarti\n"
     ]
    }
   ],
   "source": [
    "# Q10. Write a code to concatenate two strings without using the + operator.\n",
    "\n",
    "\n",
    "def two_strings(a, b):\n",
    "    return ''.join([a, b])\n",
    "a = \"hello\"\n",
    "b = \" aarti\"\n",
    "c = two_strings(a, b)\n",
    "print (c)"
   ]
  },
  {
   "cell_type": "code",
   "execution_count": 45,
   "id": "72459b3a-e651-4dce-ba53-3cc29fa8448a",
   "metadata": {},
   "outputs": [
    {
     "data": {
      "text/plain": [
       "['aalu', 'potato', 'gobi', 'tomato']"
      ]
     },
     "execution_count": 45,
     "metadata": {},
     "output_type": "execute_result"
    }
   ],
   "source": [
    "# Q11. Write a code to remove all occurrences of a specific element from a list.\n",
    "\n",
    "a = [\"aalu\", \"potato\", \"gobi\", \"paratha\", \"tomato\"]\n",
    "a.pop(3)\n",
    "a"
   ]
  },
  {
   "cell_type": "code",
   "execution_count": 4,
   "id": "250da7df-6ecb-4995-9a3b-06a6d8b93229",
   "metadata": {},
   "outputs": [
    {
     "name": "stdout",
     "output_type": "stream",
     "text": [
      "Second largest number is 20\n"
     ]
    }
   ],
   "source": [
    "# Q12. Implement a code to find the second largest number in a given list of integers.\n",
    "\n",
    "def find_second_largest(nums):\n",
    "    \n",
    "    unique_nums = set(nums)\n",
    "    \n",
    "    if len(unique_nums) < 2:\n",
    "        return None\n",
    "    \n",
    "    sorted_nums = sorted(unique_nums, reverse=True)\n",
    "    \n",
    "    return sorted_nums[1]\n",
    "\n",
    "numbers = [10, 5, 20, 20, 4, 100]\n",
    "result = find_second_largest(numbers)\n",
    "print(\"Second largest number is\", result)"
   ]
  },
  {
   "cell_type": "code",
   "execution_count": 62,
   "id": "d555d8a8-736c-4b35-a72e-e3b4cc6c91c3",
   "metadata": {},
   "outputs": [
    {
     "name": "stdout",
     "output_type": "stream",
     "text": [
      "{1: 1, 2: 3, 3: 3, 4: 2, 5: 1}\n"
     ]
    }
   ],
   "source": [
    "# Q13. Create a code to count the occurrences of each element in a list and return a dictionary with elements as keys and their counts as values.\n",
    "\n",
    "\n",
    "def count_occurrences(lst):\n",
    "    occurrences = {}\n",
    "    for element in lst:\n",
    "        if element in occurrences:\n",
    "            occurrences[element] += 1\n",
    "        else:\n",
    "            occurrences[element] = 1\n",
    "    return occurrences\n",
    "\n",
    "numbers = [1, 2, 3, 2, 3, 3, 4, 5, 4, 2]\n",
    "occurrences = count_occurrences(numbers)\n",
    "print(occurrences) "
   ]
  },
  {
   "cell_type": "code",
   "execution_count": 67,
   "id": "4a987e7d-00d6-4bfe-a787-405df74843fd",
   "metadata": {},
   "outputs": [
    {
     "name": "stdout",
     "output_type": "stream",
     "text": [
      "Reversed list: [1, 2, 3, 4, 5]\n"
     ]
    }
   ],
   "source": [
    "# Q14. Write a code to reverse a list in-place without using any built-in reverse functions.\n",
    "\n",
    "\n",
    "def reverse_list_in_place(lst):\n",
    "    right = len(lst) -1\n",
    "my_list = [1, 2, 3, 4, 5]\n",
    "reverse_list_in_place(my_list)\n",
    "print(\"Reversed list:\", my_list)  "
   ]
  },
  {
   "cell_type": "code",
   "execution_count": 5,
   "id": "7d1cce30-d8d3-4eca-ad31-c4fd08c34a12",
   "metadata": {},
   "outputs": [
    {
     "name": "stdout",
     "output_type": "stream",
     "text": [
      "Original list: [1, 2, 2, 3, 4, 3, 5, 1, 6]\n",
      "List after removing duplicates: [1, 2, 3, 4, 5, 6]\n"
     ]
    }
   ],
   "source": [
    "# Q15. mplement a code to find and remove duplicates from a list while preserving the original order of elements.\n",
    "\n",
    "\n",
    "def remove_duplicates_preserve_order(lst):\n",
    "    seen = set()\n",
    "    result = []\n",
    "    \n",
    "    for item in lst:\n",
    "        if item not in seen:\n",
    "            seen.add(item)\n",
    "            result.append(item)\n",
    "    \n",
    "    return result\n",
    "original_list = [1, 2, 2, 3, 4, 3, 5, 1, 6]\n",
    "new_list = remove_duplicates_preserve_order(original_list)\n",
    "print(\"Original list:\", original_list)   \n",
    "print(\"List after removing duplicates:\", new_list)  "
   ]
  },
  {
   "cell_type": "code",
   "execution_count": 10,
   "id": "c128d6cc-628e-46c5-88cf-e176f6f5570d",
   "metadata": {},
   "outputs": [
    {
     "name": "stdout",
     "output_type": "stream",
     "text": [
      "ascending\n"
     ]
    }
   ],
   "source": [
    "# Q16. Create a code to check if a given list is sorted (either in ascending or descending order) or not.\n",
    "\n",
    "\n",
    "def is_sorted(lst):\n",
    "    if not lst:\n",
    "        return 'not sorted' \n",
    "\n",
    "    ascending = all(lst[i] <= lst[i + 1] for i in range(len(lst) - 1))\n",
    "    descending = all(lst[i] >= lst[i + 1] for i in range(len(lst) - 1))\n",
    "\n",
    "    if ascending:\n",
    "        return 'ascending'\n",
    "    else :\n",
    "        descending \n",
    "        return 'descending'\n",
    "    \n",
    "\n",
    "example_list1 = [1, 2, 3, 4, 5]\n",
    "print(is_sorted(example_list1))  "
   ]
  },
  {
   "cell_type": "code",
   "execution_count": 13,
   "id": "afecca6d-2851-4d0e-be41-9460a1144037",
   "metadata": {},
   "outputs": [
    {
     "name": "stdout",
     "output_type": "stream",
     "text": [
      "[1, 2, 3, 4, 5, 6, 7, 8]\n"
     ]
    }
   ],
   "source": [
    "# Q17. Write a code to merge two sorted lists into a single sorted list.\n",
    "\n",
    "\n",
    "def merge_sorted_lists(list1, list2):\n",
    "    merged_list = []\n",
    "    i, j = 0, 0\n",
    "\n",
    "    while i < len(list1) and j < len(list2):\n",
    "        if list1[i] <= list2[j]:\n",
    "            merged_list.append(list1[i])\n",
    "            i += 1\n",
    "        else:\n",
    "            merged_list.append(list2[j])\n",
    "            j += 1\n",
    "\n",
    "    while i < len(list1):\n",
    "        merged_list.append(list1[i])\n",
    "        i += 1\n",
    "\n",
    "    while j < len(list2):\n",
    "        merged_list.append(list2[j])\n",
    "        j += 1\n",
    "\n",
    "    return merged_list\n",
    "\n",
    "list1 = [1, 3, 5, 7]\n",
    "list2 = [2, 4, 6, 8]\n",
    "\n",
    "merged = merge_sorted_lists(list1, list2)\n",
    "print(merged)"
   ]
  },
  {
   "cell_type": "code",
   "execution_count": 14,
   "id": "34995719-970c-44dc-bf7e-1186c30107d1",
   "metadata": {},
   "outputs": [
    {
     "name": "stdout",
     "output_type": "stream",
     "text": [
      "[4, 5]\n"
     ]
    }
   ],
   "source": [
    "# Q18. Implement a code to find the intersection of two given lists.\n",
    "\n",
    "\n",
    "def intersect_lists(list1, list2):\n",
    "\n",
    "    set1 = set(list1)\n",
    "    set2 = set(list2)\n",
    "\n",
    "    intersection = set1 & set2\n",
    "\n",
    "    return list(intersection)\n",
    "\n",
    "list1 = [1, 2, 3, 4, 5]\n",
    "list2 = [4, 5, 6, 7, 8]\n",
    "\n",
    "intersection = intersect_lists(list1, list2)\n",
    "print(intersection) "
   ]
  },
  {
   "cell_type": "code",
   "execution_count": 15,
   "id": "68796840-1c55-4c32-8be4-4dd67656c51a",
   "metadata": {},
   "outputs": [
    {
     "name": "stdout",
     "output_type": "stream",
     "text": [
      "[1, 2, 3, 4, 5, 6, 7, 8]\n"
     ]
    }
   ],
   "source": [
    "# Q19. Create a code to find the union of two lists without duplicates.\n",
    "\n",
    "\n",
    "def union_lists(list1, list2):\n",
    "\n",
    "    set1 = set(list1)\n",
    "    set2 = set(list2)\n",
    "\n",
    "    union = set1 | set2\n",
    "\n",
    "    return list(union)\n",
    "\n",
    "list1 = [1, 2, 3, 4, 5]\n",
    "list2 = [4, 5, 6, 7, 8]\n",
    "\n",
    "union = union_lists(list1, list2)\n",
    "print(union)"
   ]
  },
  {
   "cell_type": "code",
   "execution_count": 16,
   "id": "1f06936f-9cc4-4af6-a521-14a0b8ea8a3d",
   "metadata": {},
   "outputs": [
    {
     "name": "stdout",
     "output_type": "stream",
     "text": [
      "[4, 2, 5, 1, 3]\n"
     ]
    }
   ],
   "source": [
    "# Q20. Write a code to shuffle a given list randomly without using any built-in shuffle functions.\n",
    "\n",
    "\n",
    "import random\n",
    "\n",
    "def fisher_yates_shuffle(lst):\n",
    "\n",
    "    for i in range(len(lst) - 1, 0, -1):\n",
    "        j = random.randint(0, i)\n",
    "        \n",
    "        lst[i], lst[j] = lst[j], lst[i]\n",
    "\n",
    "my_list = [1, 2, 3, 4, 5]\n",
    "fisher_yates_shuffle(my_list)\n",
    "print(my_list)"
   ]
  },
  {
   "cell_type": "code",
   "execution_count": 17,
   "id": "db9caa83-815c-4f71-aa61-5604157c190e",
   "metadata": {},
   "outputs": [
    {
     "name": "stdout",
     "output_type": "stream",
     "text": [
      "(4, 5)\n"
     ]
    }
   ],
   "source": [
    "# Q21. write a code that takes two tuples as input and returns a new tuple containing elements that are common to both input tuples.\n",
    "\n",
    "def intersect_tuples(tuple1, tuple2):\n",
    "\n",
    "    set1 = set(tuple1)\n",
    "    set2 = set(tuple2)\n",
    "\n",
    "    intersection_set = set1 & set2\n",
    "\n",
    "    intersection_tuple = tuple(sorted(intersection_set))\n",
    "\n",
    "    return intersection_tuple\n",
    "\n",
    "tuple1 = (1, 2, 3, 4, 5)\n",
    "tuple2 = (4, 5, 6, 7, 8)\n",
    "\n",
    "intersection = intersect_tuples(tuple1, tuple2)\n",
    "print(intersection)  "
   ]
  },
  {
   "cell_type": "code",
   "execution_count": 20,
   "id": "d4a6ec33-ca2b-46c6-bfb3-df799e4a5c98",
   "metadata": {},
   "outputs": [
    {
     "name": "stdin",
     "output_type": "stream",
     "text": [
      "Enter the first set of integers (separated by commas):  2,3\n",
      "Enter the second set of integers (separated by commas):  5,8\n"
     ]
    },
    {
     "name": "stdout",
     "output_type": "stream",
     "text": [
      "Intersection of the two sets: set()\n"
     ]
    }
   ],
   "source": [
    "# Q22. create a code that prompts the user to enter two sets of integers separated by commas. Then, print the intersection of these two sets.\n",
    "\n",
    "\n",
    "def get_set_from_input(prompt):\n",
    "    \n",
    "    while True:\n",
    "        try:\n",
    "            user_input = input(prompt)\n",
    "            user_set = set(map(int, user_input.split(',')))\n",
    "            return user_set\n",
    "        except ValueError:\n",
    "            print(\"Invalid input. Please enter integers separated by commas.\")\n",
    "\n",
    "def main():\n",
    "    set1 = get_set_from_input(\"Enter the first set of integers (separated by commas): \")\n",
    "    set2 = get_set_from_input(\"Enter the second set of integers (separated by commas): \")\n",
    "\n",
    "    intersection = set1 & set2\n",
    "\n",
    "    print(\"Intersection of the two sets:\", intersection)\n",
    "\n",
    "if __name__ == \"__main__\":\n",
    "    main()"
   ]
  },
  {
   "cell_type": "code",
   "execution_count": 21,
   "id": "d353128c-3136-4c73-8cb7-b09d56c7e3ab",
   "metadata": {},
   "outputs": [
    {
     "name": "stdout",
     "output_type": "stream",
     "text": [
      "(1, 2, 3, 4, 5, 6)\n"
     ]
    }
   ],
   "source": [
    "# Q23. Write a code to concatenate two tuples. The function should take two tuples as input and return a new tuple containing elements from both input tuples.\n",
    "\n",
    "\n",
    "def concatenate_tuples(tuple1, tuple2):\n",
    "\n",
    "    concatenated_tuple = tuple1 + tuple2\n",
    "\n",
    "    return concatenated_tuple\n",
    "\n",
    "tuple1 = (1, 2, 3)\n",
    "tuple2 = (4, 5, 6)\n",
    "\n",
    "result = concatenate_tuples(tuple1, tuple2)\n",
    "print(result) "
   ]
  },
  {
   "cell_type": "code",
   "execution_count": 25,
   "id": "207b0a67-5b92-4466-91cc-e93f5b1e13d1",
   "metadata": {},
   "outputs": [
    {
     "name": "stdin",
     "output_type": "stream",
     "text": [
      "Enter the first set of strings (separated by commas):  aarti\n",
      "Enter the second set of strings (separated by commas):  kumari\n"
     ]
    },
    {
     "name": "stdout",
     "output_type": "stream",
     "text": [
      "Elements present in the first set but not in the second set: {'aarti'}\n"
     ]
    }
   ],
   "source": [
    "# Q24. Develop a code that prompts the user to input two sets of strings. Then, print the elements that are present in the first set but not in the second set.\n",
    "\n",
    "\n",
    "def get_set_from_input(prompt):\n",
    "\n",
    "    while True:\n",
    "        try:\n",
    "            user_input = input(prompt)\n",
    "            user_set = set(user_input.split(','))\n",
    "            return user_set\n",
    "        except ValueError:\n",
    "            print(\"Invalid input. Please enter strings separated by commas.\")\n",
    "\n",
    "def main():\n",
    "    set1 = get_set_from_input(\"Enter the first set of strings (separated by commas): \")\n",
    "    set2 = get_set_from_input(\"Enter the second set of strings (separated by commas): \")\n",
    "\n",
    "    difference = set1 - set2\n",
    "\n",
    "    print(\"Elements present in the first set but not in the second set:\", difference)\n",
    "\n",
    "if __name__ == \"__main__\":\n",
    "    main()\n"
   ]
  },
  {
   "cell_type": "code",
   "execution_count": 26,
   "id": "862a669e-9eb3-4b83-9e1e-41c538b1d840",
   "metadata": {},
   "outputs": [
    {
     "name": "stdout",
     "output_type": "stream",
     "text": [
      "(30, 40, 50)\n"
     ]
    }
   ],
   "source": [
    "# Q25. Create a code that takes a tuple and two integers as input. The function should return a new tuple containing elements from the original tuple within the specified range of indices.\n",
    "\n",
    "\n",
    "def slice_tuple(original_tuple, start_index, end_index):\n",
    "\n",
    "    if start_index < 0 or end_index > len(original_tuple) or start_index > end_index:\n",
    "        raise ValueError(\"Indices are out of bounds or invalid. Ensure 0 <= start_index <= end_index <= len(original_tuple).\")\n",
    "    \n",
    "    sliced_tuple = original_tuple[start_index:end_index]\n",
    "\n",
    "    return sliced_tuple\n",
    "\n",
    "original_tuple = (10, 20, 30, 40, 50, 60, 70)\n",
    "start_index = 2\n",
    "end_index = 5\n",
    "\n",
    "result = slice_tuple(original_tuple, start_index, end_index)\n",
    "print(result) "
   ]
  },
  {
   "cell_type": "code",
   "execution_count": 27,
   "id": "95b0d0fa-ffea-4b3f-8bf0-32b63dd3f64f",
   "metadata": {},
   "outputs": [
    {
     "name": "stdin",
     "output_type": "stream",
     "text": [
      "Enter the first set of characters:  aarti\n",
      "Enter the second set of characters:  kumari\n"
     ]
    },
    {
     "name": "stdout",
     "output_type": "stream",
     "text": [
      "Union of the two sets: {'k', 'm', 'i', 'a', 'u', 'r', 't'}\n"
     ]
    }
   ],
   "source": [
    "# Q26. write a code that prompts the user to input two sets of characters. Then, print the union of these two sets.\n",
    "\n",
    "def get_set_from_input(prompt):\n",
    "\n",
    "    while True:\n",
    "        try:\n",
    "            user_input = input(prompt)\n",
    "            user_set = set(user_input)\n",
    "            return user_set\n",
    "        except ValueError:\n",
    "            print(\"Invalid input. Please enter characters.\")\n",
    "\n",
    "def main():\n",
    "    set1 = get_set_from_input(\"Enter the first set of characters: \")\n",
    "    set2 = get_set_from_input(\"Enter the second set of characters: \")\n",
    "\n",
    "    union = set1 | set2\n",
    "\n",
    "    print(\"Union of the two sets:\", union)\n",
    "\n",
    "if __name__ == \"__main__\":\n",
    "    main()"
   ]
  },
  {
   "cell_type": "code",
   "execution_count": 28,
   "id": "a3bd6c6b-e6ea-4e55-bb88-dc8028598c22",
   "metadata": {},
   "outputs": [
    {
     "name": "stdout",
     "output_type": "stream",
     "text": [
      "Maximum value: 50\n",
      "Minimum value: 10\n"
     ]
    }
   ],
   "source": [
    "# Q27. Develop a code that takes a tuple of integers as input. The function should return the maximum and minimum values from the tuple using tuple unpacking.\n",
    "\n",
    "\n",
    "def find_max_min(values):\n",
    "\n",
    "    if not values:\n",
    "        raise ValueError(\"The input tuple is empty. Cannot determine max and min values.\")\n",
    "\n",
    "    max_value = max(values)\n",
    "    min_value = min(values)\n",
    "\n",
    "    return max_value, min_value\n",
    "\n",
    "input_tuple = (10, 20, 30, 40, 50)\n",
    "max_value, min_value = find_max_min(input_tuple)\n",
    "print(\"Maximum value:\", max_value)\n",
    "print(\"Minimum value:\", min_value)"
   ]
  },
  {
   "cell_type": "code",
   "execution_count": 30,
   "id": "b522f4ff-dd97-4eff-8adf-5845c6f65cbe",
   "metadata": {},
   "outputs": [
    {
     "name": "stdout",
     "output_type": "stream",
     "text": [
      "Set 1: {1, 2, 3, 4, 5}\n",
      "Set 2: {4, 5, 6, 7, 8}\n",
      "Union of Set 1 and Set 2: {1, 2, 3, 4, 5, 6, 7, 8}\n",
      "Intersection of Set 1 and Set 2: {4, 5}\n",
      "Difference of Set 1 from Set 2: {1, 2, 3}\n"
     ]
    }
   ],
   "source": [
    "# Q28. Create a code that defines two sets of integers. Then, print the union, intersection, and difference of these two sets.\n",
    "\n",
    "\n",
    "def main():\n",
    "    set1 = {1, 2, 3, 4, 5}\n",
    "    set2 = {4, 5, 6, 7, 8}\n",
    "\n",
    "    union_set = set1 | set2\n",
    "\n",
    "    intersection_set = set1 & set2\n",
    "\n",
    "    difference_set = set1 - set2\n",
    "\n",
    "    print(\"Set 1:\", set1)\n",
    "    print(\"Set 2:\", set2)\n",
    "    print(\"Union of Set 1 and Set 2:\", union_set)\n",
    "    print(\"Intersection of Set 1 and Set 2:\", intersection_set)\n",
    "    print(\"Difference of Set 1 from Set 2:\", difference_set)\n",
    "\n",
    "if __name__ == \"__main__\":\n",
    "    main()"
   ]
  },
  {
   "cell_type": "code",
   "execution_count": 31,
   "id": "7acf577f-0e28-4f10-8980-404c25403c60",
   "metadata": {},
   "outputs": [
    {
     "name": "stdout",
     "output_type": "stream",
     "text": [
      "The element 2 occurs 3 times in the tuple.\n"
     ]
    }
   ],
   "source": [
    "# Q29. Write a code that takes a tuple and an element as input. The function should return the count of occurrences of the given element in the tuple.\n",
    "\n",
    "\n",
    "def count_element_in_tuple(tpl, element):\n",
    "\n",
    "    count = tpl.count(element)\n",
    "    \n",
    "    return count\n",
    "\n",
    "example_tuple = (1, 2, 3, 2, 4, 2, 5)\n",
    "element_to_count = 2\n",
    "\n",
    "result = count_element_in_tuple(example_tuple, element_to_count)\n",
    "print(f\"The element {element_to_count} occurs {result} times in the tuple.\")"
   ]
  },
  {
   "cell_type": "code",
   "execution_count": 32,
   "id": "b181a9e3-7077-4069-bb11-b8d0878a2341",
   "metadata": {},
   "outputs": [
    {
     "name": "stdin",
     "output_type": "stream",
     "text": [
      "Enter the first set of strings (separated by commas):  aarti, 24\n",
      "Enter the second set of strings (separated by commas):  yutika, 02\n"
     ]
    },
    {
     "name": "stdout",
     "output_type": "stream",
     "text": [
      "Symmetric difference of the two sets: {' 02', 'aarti', 'yutika', ' 24'}\n"
     ]
    }
   ],
   "source": [
    "# Q30. Develop a code that prompts the user to input two sets of strings. Then, print the symmetric difference of these two sets.\n",
    "\n",
    "\n",
    "def get_set_from_input(prompt):\n",
    "\n",
    "    while True:\n",
    "        try:\n",
    "            user_input = input(prompt)\n",
    "            user_set = set(user_input.split(','))\n",
    "            return user_set\n",
    "        except ValueError:\n",
    "            print(\"Invalid input. Please enter strings separated by commas.\")\n",
    "\n",
    "def main():\n",
    "    set1 = get_set_from_input(\"Enter the first set of strings (separated by commas): \")\n",
    "    set2 = get_set_from_input(\"Enter the second set of strings (separated by commas): \")\n",
    "\n",
    "    symmetric_difference = set1 ^ set2\n",
    "\n",
    "    print(\"Symmetric difference of the two sets:\", symmetric_difference)\n",
    "\n",
    "if __name__ == \"__main__\":\n",
    "    main()"
   ]
  },
  {
   "cell_type": "code",
   "execution_count": 34,
   "id": "3dcea473-7183-4085-9eae-19be92dabbe7",
   "metadata": {},
   "outputs": [
    {
     "name": "stdout",
     "output_type": "stream",
     "text": [
      "Word frequencies: {'apple': 3, 'banana': 2, 'orange': 1}\n"
     ]
    }
   ],
   "source": [
    "# Q31. Write a code that takes a list of words as input and returns a dictionary where the keys are unique words and the values are the frequencies of those words in the input list.\n",
    "\n",
    "\n",
    "def word_frequencies(word_list):\n",
    "\n",
    "    frequency_dict = {}\n",
    "    \n",
    "    for word in word_list:\n",
    "        if word in frequency_dict:\n",
    "            frequency_dict[word] += 1\n",
    "        else:\n",
    "            frequency_dict[word] = 1\n",
    "    \n",
    "    return frequency_dict\n",
    "\n",
    "input_list = [\"apple\", \"banana\", \"apple\", \"orange\", \"banana\", \"apple\"]\n",
    "result = word_frequencies(input_list)\n",
    "print(\"Word frequencies:\", result)"
   ]
  },
  {
   "cell_type": "code",
   "execution_count": 35,
   "id": "7b2cae04-f8f2-451a-92d7-70b9b0ab1ff1",
   "metadata": {},
   "outputs": [
    {
     "name": "stdout",
     "output_type": "stream",
     "text": [
      "Merged dictionary: {'a': 10, 'b': 35, 'c': 55, 'd': 5}\n"
     ]
    }
   ],
   "source": [
    "# Q32. Write a code that takes two dictionaries as input and merges them into a single dictionary. If there are common keys, the values should be added together.\n",
    "\n",
    "\n",
    "def merge_dictionaries(dict1, dict2):\n",
    "\n",
    "    merged_dict = dict1.copy()  # Start with a copy of the first dictionary\n",
    "\n",
    "    for key, value in dict2.items():\n",
    "        if key in merged_dict:\n",
    "            merged_dict[key] += value\n",
    "        else:\n",
    "            merged_dict[key] = value\n",
    "\n",
    "    return merged_dict\n",
    "\n",
    "dict1 = {'a': 10, 'b': 20, 'c': 30}\n",
    "dict2 = {'b': 15, 'c': 25, 'd': 5}\n",
    "\n",
    "result = merge_dictionaries(dict1, dict2)\n",
    "print(\"Merged dictionary:\", result)\n"
   ]
  },
  {
   "cell_type": "code",
   "execution_count": 37,
   "id": "9ad928ce-1970-44a3-8c5f-8667e6144dab",
   "metadata": {},
   "outputs": [
    {
     "name": "stdout",
     "output_type": "stream",
     "text": [
      "Accessed value: 42\n",
      "Accessed value with non-existent key: None\n"
     ]
    }
   ],
   "source": [
    "# Q33. Write a code to access a value in a nested dictionary. The function should take the dictionary and a list of keys as input, and return the corresponding value. If any of the keys do not exist in the dictionary, the function should return None.\n",
    "\n",
    "\n",
    "def access_nested_value(d, keys):\n",
    "\n",
    "    current_value = d\n",
    "    for key in keys:\n",
    "        if isinstance(current_value, dict) and key in current_value:\n",
    "            current_value = current_value[key]\n",
    "        else:\n",
    "            return None\n",
    "    return current_value\n",
    "\n",
    "nested_dict = {'a': {'b': {'c': 42}}}\n",
    "\n",
    "keys = ['a', 'b', 'c']\n",
    "result = access_nested_value(nested_dict, keys)\n",
    "print(\"Accessed value:\", result) \n",
    "\n",
    "keys_with_nonexistent = ['a', 'b', 'x']\n",
    "result_nonexistent = access_nested_value(nested_dict, keys_with_nonexistent)\n",
    "print(\"Accessed value with non-existent key:\", result_nonexistent)\n"
   ]
  },
  {
   "cell_type": "code",
   "execution_count": 38,
   "id": "84c2faac-e47c-495d-9d50-16af64fe6d48",
   "metadata": {},
   "outputs": [
    {
     "name": "stdout",
     "output_type": "stream",
     "text": [
      "Sorted in ascending order: {'banana': 5, 'cherry': 7, 'apple': 10}\n",
      "Sorted in descending order: {'apple': 10, 'cherry': 7, 'banana': 5}\n"
     ]
    }
   ],
   "source": [
    "# Q34.  Write a code that takes a dictionary as input and returns a sorted version of it based on the values. You can choose whether to sort in ascending or descending order.\n",
    "\n",
    "\n",
    "def sort_dict_by_values(d, ascending=True):\n",
    "    sorted_dict = dict(sorted(d.items(), key=lambda item: item[1], reverse=not ascending))\n",
    "    return sorted_dict\n",
    "\n",
    "example_dict = {'apple': 10, 'banana': 5, 'cherry': 7}\n",
    "\n",
    "sorted_ascending = sort_dict_by_values(example_dict, ascending=True)\n",
    "print(\"Sorted in ascending order:\", sorted_ascending)\n",
    "\n",
    "sorted_descending = sort_dict_by_values(example_dict, ascending=False)\n",
    "print(\"Sorted in descending order:\", sorted_descending)"
   ]
  },
  {
   "cell_type": "code",
   "execution_count": 39,
   "id": "88e625e4-d3f5-41f9-87fd-d0fb9724e187",
   "metadata": {},
   "outputs": [
    {
     "name": "stdout",
     "output_type": "stream",
     "text": [
      "Inverted dictionary: {1: ['a', 'c'], 2: 'b', 3: 'd'}\n"
     ]
    }
   ],
   "source": [
    "# Q35. Write a code that inverts a dictionary, swapping keys and values. Ensure that the inverted dictionary correctly handles cases where multiple keys have the same value by storing the keys as a list in the inverted dictionary.\n",
    "\n",
    "\n",
    "def invert_dictionary(d):\n",
    "\n",
    "    inverted_dict = {}\n",
    "    \n",
    "    for key, value in d.items():\n",
    "        if value in inverted_dict:\n",
    "            if isinstance(inverted_dict[value], list):\n",
    "                inverted_dict[value].append(key)\n",
    "            else:\n",
    "                inverted_dict[value] = [inverted_dict[value], key]\n",
    "        else:\n",
    "            inverted_dict[value] = key\n",
    "    \n",
    "    return inverted_dict\n",
    "\n",
    "example_dict = {'a': 1, 'b': 2, 'c': 1, 'd': 3}\n",
    "\n",
    "inverted = invert_dictionary(example_dict)\n",
    "print(\"Inverted dictionary:\", inverted)"
   ]
  }
 ],
 "metadata": {
  "kernelspec": {
   "display_name": "Python 3 (ipykernel)",
   "language": "python",
   "name": "python3"
  },
  "language_info": {
   "codemirror_mode": {
    "name": "ipython",
    "version": 3
   },
   "file_extension": ".py",
   "mimetype": "text/x-python",
   "name": "python",
   "nbconvert_exporter": "python",
   "pygments_lexer": "ipython3",
   "version": "3.10.8"
  }
 },
 "nbformat": 4,
 "nbformat_minor": 5
}
